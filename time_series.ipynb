{
 "cells": [
  {
   "cell_type": "markdown",
   "metadata": {},
   "source": [
    "# Time Series Data Analysis"
   ]
  },
  {
   "cell_type": "markdown",
   "metadata": {},
   "source": [
    "Importing Libraries"
   ]
  },
  {
   "cell_type": "code",
   "execution_count": 7,
   "metadata": {},
   "outputs": [],
   "source": [
    "import numpy as np\n",
    "import pandas as pd\n",
    "from matplotlib import pyplot as plt\n",
    "import seaborn as sns"
   ]
  },
  {
   "cell_type": "markdown",
   "metadata": {},
   "source": [
    "Reading data with Pandas library"
   ]
  },
  {
   "cell_type": "code",
   "execution_count": 47,
   "metadata": {},
   "outputs": [
    {
     "name": "stdout",
     "output_type": "stream",
     "text": [
      "                Date   Open   High    Low  Close   Volume\n",
      "0  1/2/2023 18:10:00  196.0  197.7  191.6  192.5  1868777\n",
      "1  1/3/2023 18:10:00  193.5  194.5  185.1  185.9  1795253\n",
      "2  1/4/2023 18:10:00  185.9  189.2  182.1  184.6  1531087\n",
      "3  1/5/2023 18:10:00  185.0  187.0  170.8  181.0  1316451\n",
      "4  1/6/2023 18:10:00  174.5  178.0  166.9  174.6  2975424\n"
     ]
    }
   ],
   "source": [
    "df = pd.read_csv(\"./doas-23-24.csv\", index_col=False)\n",
    "print(df.head(5))\n",
    "df[\"Date\"] = pd.to_datetime(df[\"Date\"])"
   ]
  },
  {
   "cell_type": "markdown",
   "metadata": {},
   "source": [
    "Converting column names to lower case"
   ]
  },
  {
   "cell_type": "code",
   "execution_count": 48,
   "metadata": {},
   "outputs": [
    {
     "name": "stdout",
     "output_type": "stream",
     "text": [
      "Index(['date', 'open', 'high', 'low', 'close', 'volume'], dtype='object')\n",
      "<class 'pandas.core.frame.DataFrame'>\n",
      "RangeIndex: 248 entries, 0 to 247\n",
      "Data columns (total 6 columns):\n",
      " #   Column  Non-Null Count  Dtype         \n",
      "---  ------  --------------  -----         \n",
      " 0   date    248 non-null    datetime64[ns]\n",
      " 1   open    248 non-null    float64       \n",
      " 2   high    248 non-null    float64       \n",
      " 3   low     248 non-null    float64       \n",
      " 4   close   248 non-null    float64       \n",
      " 5   volume  248 non-null    int64         \n",
      "dtypes: datetime64[ns](1), float64(4), int64(1)\n",
      "memory usage: 11.8 KB\n",
      "None\n"
     ]
    }
   ],
   "source": [
    "df.columns = [column.lower() for column in df.columns]\n",
    "print(df.columns)\n",
    "print(df.info())"
   ]
  },
  {
   "cell_type": "markdown",
   "metadata": {},
   "source": [
    "Setting index as \"date\" column"
   ]
  },
  {
   "cell_type": "code",
   "execution_count": 49,
   "metadata": {},
   "outputs": [
    {
     "name": "stdout",
     "output_type": "stream",
     "text": [
      "                      open   high    low  close   volume\n",
      "date                                                    \n",
      "2023-01-02 18:10:00  196.0  197.7  191.6  192.5  1868777\n",
      "2023-01-03 18:10:00  193.5  194.5  185.1  185.9  1795253\n",
      "2023-01-04 18:10:00  185.9  189.2  182.1  184.6  1531087\n",
      "2023-01-05 18:10:00  185.0  187.0  170.8  181.0  1316451\n",
      "2023-01-06 18:10:00  174.5  178.0  166.9  174.6  2975424\n"
     ]
    }
   ],
   "source": [
    "\n",
    "df.set_index(\"date\", inplace=True)\n",
    "print(df.head(5))"
   ]
  },
  {
   "cell_type": "markdown",
   "metadata": {},
   "source": [
    "Finding mean value for specific month and specific time interval"
   ]
  },
  {
   "cell_type": "code",
   "execution_count": 76,
   "metadata": {},
   "outputs": [
    {
     "data": {
      "text/plain": [
       "274.8181818181818"
      ]
     },
     "execution_count": 76,
     "metadata": {},
     "output_type": "execute_result"
    }
   ],
   "source": [
    "df.loc[\"2023-08\", \"close\"].mean()"
   ]
  },
  {
   "cell_type": "code",
   "execution_count": 79,
   "metadata": {},
   "outputs": [
    {
     "data": {
      "text/plain": [
       "275.17826086956524"
      ]
     },
     "execution_count": 79,
     "metadata": {},
     "output_type": "execute_result"
    }
   ],
   "source": [
    "df.loc[\"2023-08-01\": \"2023-09-01\", \"close\"].mean()"
   ]
  },
  {
   "cell_type": "markdown",
   "metadata": {},
   "source": [
    "Getting close price with resample method.\n",
    "\n",
    "Resample method is commonly used for time series data. The index must be date-time-like. *ME* stands for month end. MS is for month start."
   ]
  },
  {
   "cell_type": "code",
   "execution_count": 84,
   "metadata": {},
   "outputs": [
    {
     "data": {
      "text/plain": [
       "date\n",
       "2023-01-31    165.004545\n",
       "2023-02-28    160.920000\n",
       "2023-03-31    135.008696\n",
       "2023-04-30    126.300000\n",
       "2023-05-31    125.804762\n",
       "2023-06-30    150.168421\n",
       "2023-07-31    215.285714\n",
       "2023-08-31    274.818182\n",
       "2023-09-30    270.228571\n",
       "2023-10-31    264.495455\n",
       "2023-11-30    265.031818\n",
       "2023-12-31    236.257143\n",
       "Freq: ME, Name: close, dtype: float64"
      ]
     },
     "execution_count": 84,
     "metadata": {},
     "output_type": "execute_result"
    }
   ],
   "source": [
    "df[\"close\"].resample(\"ME\").mean()"
   ]
  },
  {
   "cell_type": "markdown",
   "metadata": {},
   "source": [
    "Plotting the graph for the resampled data. For the proper documentation of time series for pandas, follow the link: https://pandas.pydata.org/docs/user_guide/timeseries.html"
   ]
  },
  {
   "cell_type": "code",
   "execution_count": 92,
   "metadata": {},
   "outputs": [
    {
     "data": {
      "text/plain": [
       "<Axes: xlabel='date'>"
      ]
     },
     "execution_count": 92,
     "metadata": {},
     "output_type": "execute_result"
    },
    {
     "data": {
      "image/png": "[encoded data removed]",
      "text/plain": [
       "<Figure size 640x480 with 1 Axes>"
      ]
     },
     "metadata": {},
     "output_type": "display_data"
    }
   ],
   "source": [
    "df[\"close\"].resample(\"BME\").mean().plot(kind=\"bar\")"
   ]
  },
  {
   "cell_type": "markdown",
   "metadata": {},
   "source": [
    "## Creating Dates from scratch\n",
    "Pandas has a method named **date_range()**. Its arguments are just as followings:\n",
    "    \"start\" -> start date\n",
    "    \"end\" -> end date\n",
    "    \"freq\" -> argument to avoid holidays or weekends. (B is stands for business).\n",
    "\n",
    "\n",
    "After creating the dates and assigning it to a variable, you will be able to set this variable as index with inplace argument of *set_index* method."
   ]
  },
  {
   "cell_type": "markdown",
   "metadata": {},
   "source": [
    "### Filling Holidays\n",
    "In finance, the data of working days are collected. However, you may include holidays in your problem if it is necesarry. In order to fill the gaps of the data, **asfreq** method is used. \n",
    "Method argument may be used as \"pad\", and freq value can be passed as \"D\" for days."
   ]
  }
 ],
 "metadata": {
  "kernelspec": {
   "display_name": "time_series",
   "language": "python",
   "name": "python3"
  },
  "language_info": {
   "codemirror_mode": {
    "name": "ipython",
    "version": 3
   },
   "file_extension": ".py",
   "mimetype": "text/x-python",
   "name": "python",
   "nbconvert_exporter": "python",
   "pygments_lexer": "ipython3",
   "version": "3.12.7"
  }
 },
 "nbformat": 4,
 "nbformat_minor": 2
}
